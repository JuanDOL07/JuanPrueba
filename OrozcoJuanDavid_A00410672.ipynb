{
  "nbformat": 4,
  "nbformat_minor": 0,
  "metadata": {
    "colab": {
      "provenance": [],
      "authorship_tag": "ABX9TyNOZxnSeEjx1X1kmr1Trs7E",
      "include_colab_link": true
    },
    "kernelspec": {
      "name": "python3",
      "display_name": "Python 3"
    },
    "language_info": {
      "name": "python"
    }
  },
  "cells": [
    {
      "cell_type": "markdown",
      "metadata": {
        "id": "view-in-github",
        "colab_type": "text"
      },
      "source": [
        "<a href=\"https://colab.research.google.com/github/JuanDOL07/JuanPrueba/blob/main/OrozcoJuanDavid_A00410672.ipynb\" target=\"_parent\"><img src=\"https://colab.research.google.com/assets/colab-badge.svg\" alt=\"Open In Colab\"/></a>"
      ]
    },
    {
      "cell_type": "code",
      "source": [
        "\"hola\""
      ],
      "metadata": {
        "colab": {
          "base_uri": "https://localhost:8080/",
          "height": 35
        },
        "id": "fKKJWV-q4FjW",
        "outputId": "78552452-6d22-43bd-f7fc-6f30601c2e65"
      },
      "execution_count": 15,
      "outputs": [
        {
          "output_type": "execute_result",
          "data": {
            "text/plain": [
              "'hola'"
            ],
            "application/vnd.google.colaboratory.intrinsic+json": {
              "type": "string"
            }
          },
          "metadata": {},
          "execution_count": 15
        }
      ]
    },
    {
      "cell_type": "markdown",
      "source": [
        "String (texto)"
      ],
      "metadata": {
        "id": "-bt71Hn444P0"
      }
    },
    {
      "cell_type": "code",
      "source": [
        "(1)"
      ],
      "metadata": {
        "colab": {
          "base_uri": "https://localhost:8080/"
        },
        "id": "WBJZhcJs4lSL",
        "outputId": "9783b27d-f3b7-4a44-937c-462ab7fbf1f7"
      },
      "execution_count": 9,
      "outputs": [
        {
          "output_type": "execute_result",
          "data": {
            "text/plain": [
              "1"
            ]
          },
          "metadata": {},
          "execution_count": 9
        }
      ]
    },
    {
      "cell_type": "markdown",
      "source": [
        "Int (numeros enteros)"
      ],
      "metadata": {
        "id": "CDt6twaB48ak"
      }
    },
    {
      "cell_type": "code",
      "source": [
        "(1.1)"
      ],
      "metadata": {
        "id": "3QzYRo1l5E9l"
      },
      "execution_count": null,
      "outputs": []
    },
    {
      "cell_type": "markdown",
      "source": [
        "Float(numeros decimales)"
      ],
      "metadata": {
        "id": "KfhIHjJK5Hs0"
      }
    },
    {
      "cell_type": "code",
      "source": [
        "(True)"
      ],
      "metadata": {
        "colab": {
          "base_uri": "https://localhost:8080/"
        },
        "id": "Ppyw90kr5vBA",
        "outputId": "99306641-6b77-4695-9b19-6f5adc33a9df"
      },
      "execution_count": 12,
      "outputs": [
        {
          "output_type": "execute_result",
          "data": {
            "text/plain": [
              "True"
            ]
          },
          "metadata": {},
          "execution_count": 12
        }
      ]
    },
    {
      "cell_type": "markdown",
      "source": [
        "Boolean(Falso y verdadero)"
      ],
      "metadata": {
        "id": "1Nz9Y0tr55-N"
      }
    },
    {
      "cell_type": "code",
      "source": [
        "x=False\n",
        "not x"
      ],
      "metadata": {
        "colab": {
          "base_uri": "https://localhost:8080/"
        },
        "id": "PKK2SFJ98cju",
        "outputId": "c8357988-51e4-4224-f6e6-d69d0cabdab6"
      },
      "execution_count": 13,
      "outputs": [
        {
          "output_type": "execute_result",
          "data": {
            "text/plain": [
              "True"
            ]
          },
          "metadata": {},
          "execution_count": 13
        }
      ]
    },
    {
      "cell_type": "code",
      "source": [
        "x=int(input(\"ingrese un numero\"))\n",
        "y=int(input(\"ingrese un numero\"))\n",
        "print(x)\n",
        "print(y)"
      ],
      "metadata": {
        "colab": {
          "base_uri": "https://localhost:8080/"
        },
        "id": "2SqBVPk6Dlno",
        "outputId": "a8706e6d-fa17-4384-ce81-2825cdd9ad38"
      },
      "execution_count": 20,
      "outputs": [
        {
          "name": "stdout",
          "output_type": "stream",
          "text": [
            "ingrese un numero6\n",
            "ingrese un numero7\n"
          ]
        },
        {
          "output_type": "execute_result",
          "data": {
            "text/plain": [
              "7"
            ]
          },
          "metadata": {},
          "execution_count": 20
        }
      ]
    },
    {
      "cell_type": "code",
      "source": [
        "type(2.0)"
      ],
      "metadata": {
        "colab": {
          "base_uri": "https://localhost:8080/"
        },
        "id": "Cr5RNSPC4if0",
        "outputId": "69971fa7-820b-4054-8b76-0c3da687c771"
      },
      "execution_count": 4,
      "outputs": [
        {
          "output_type": "execute_result",
          "data": {
            "text/plain": [
              "float"
            ]
          },
          "metadata": {},
          "execution_count": 4
        }
      ]
    }
  ]
}