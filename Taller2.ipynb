{
  "nbformat": 4,
  "nbformat_minor": 0,
  "metadata": {
    "colab": {
      "provenance": [],
      "authorship_tag": "ABX9TyOinWgma8ugOwQPLYcAVuCi",
      "include_colab_link": true
    },
    "kernelspec": {
      "name": "python3",
      "display_name": "Python 3"
    },
    "language_info": {
      "name": "python"
    }
  },
  "cells": [
    {
      "cell_type": "markdown",
      "metadata": {
        "id": "view-in-github",
        "colab_type": "text"
      },
      "source": [
        "<a href=\"https://colab.research.google.com/github/JuanDOL07/JuanPrueba/blob/main/Taller2.ipynb\" target=\"_parent\"><img src=\"https://colab.research.google.com/assets/colab-badge.svg\" alt=\"Open In Colab\"/></a>"
      ]
    },
    {
      "cell_type": "markdown",
      "source": [
        "Juan David Orozco A00410672\n",
        "Santiago Vinasco"
      ],
      "metadata": {
        "id": "ZB5yMnLhoeSn"
      }
    },
    {
      "cell_type": "code",
      "execution_count": null,
      "metadata": {
        "id": "jOV9VJDAU9eP"
      },
      "outputs": [],
      "source": [
        "#1\n",
        "def es_primo(n):\n",
        "  if n < 2:\n",
        "    return False\n",
        "  for i in range(2, int(n**0.5) + 1):\n",
        "    if n % i == 0:\n",
        "      return False\n",
        "  return True\n",
        "def filtrar_primos(lista):\n",
        "    return [x for x in lista if es_primo(x)]\n",
        "\n",
        "Numeros=[1,2,3,4,5,6,7,8,9,10]\n",
        "primos=filtrar_primos(Numeros)\n",
        "print(primos)\n"
      ]
    },
    {
      "cell_type": "code",
      "source": [
        "#2\n",
        "def elementos_comunes(lista1, lista2):\n",
        "    return list(set(lista1) & set(lista2))\n",
        "\n",
        "lista_a = []\n",
        "lista_b = []\n",
        "\n",
        "print(\"Ingrese 7 números para la primera lista:\")\n",
        "for i in range(7):\n",
        "    num = int(input(f\"Número {i+1}: \"))\n",
        "    lista_a.append(num)\n",
        "\n",
        "print(\"Ingrese 7 números para la segunda lista:\")\n",
        "for i in range(7):\n",
        "    num = int(input(f\"Número {i+1}: \"))\n",
        "    lista_b.append(num)\n",
        "\n",
        "print(\"Lista A:\", lista_a)\n",
        "print(\"Lista B:\", lista_b)\n",
        "resultado = elementos_comunes(lista_a, lista_b)\n",
        "print(\"Elementos comunes:\", resultado)"
      ],
      "metadata": {
        "id": "7c0F0dviav8f"
      },
      "execution_count": null,
      "outputs": []
    },
    {
      "cell_type": "code",
      "source": [
        "#3\n",
        "import math\n",
        "\n",
        "def matriz_cuadrada(matriz):\n",
        "    longitud = len(matriz)\n",
        "    lado = int(math.sqrt(longitud))\n",
        "    if lado * lado != longitud:\n",
        "        return \"error:la cantidad de elementos no se puede formar una matriz cuadrada\"\n",
        "    matriz_resultante = [matriz[i:i + lado] for i in range(0, longitud, lado)]\n",
        "    return matriz_resultante\n",
        "\n",
        "lista = [1, 2, 3, 4, 5, 6, 7, 8, 9]\n",
        "matriz_cuadrada(lista)"
      ],
      "metadata": {
        "id": "cnO7fIxSawkg"
      },
      "execution_count": null,
      "outputs": []
    },
    {
      "cell_type": "code",
      "source": [
        "#4\n",
        "def media(lista):\n",
        "  return sum(lista) / 7\n",
        "lista_a = []\n",
        "print(\"Ingrese 7 números para la primera lista:\")\n",
        "for i in range(7):\n",
        "    num = int(input(f\"Número {i+1}: \"))\n",
        "    lista_a.append(num)\n",
        "print(\"Lista ingresada:\", lista_a)\n",
        "promedio = media(lista_a)\n",
        "print(\"La media de los números ingresados es:\", promedio)\n",
        "\n",
        "def mediana(lista):\n",
        "    lista.sort()\n",
        "    n = len(lista)\n",
        "    if n % 2 == 1:\n",
        "        return lista[n // 2]\n",
        "\n",
        "print(\"La mediana es:\", mediana(lista_a))\n",
        "\n",
        "def moda(lista):\n",
        "    frecuencia = {}\n",
        "    for num in lista:\n",
        "        if num in frecuencia:\n",
        "            frecuencia[num] += 1\n",
        "        else:\n",
        "            frecuencia[num] = 1\n",
        "\n",
        "    max_frecuencia = max(frecuencia.values())\n",
        "    for num, freq in frecuencia.items():\n",
        "        if freq == max_frecuencia:\n",
        "            return num\n",
        "print(\"La moda es:\", moda(lista_a))"
      ],
      "metadata": {
        "id": "gSSh_NtBawz8"
      },
      "execution_count": null,
      "outputs": []
    },
    {
      "cell_type": "code",
      "source": [
        "#5\n",
        "def calcular_total(precios, cantidades):\n",
        "    total = sum(p * c for p, c in zip(precios, cantidades))\n",
        "\n",
        "    if total > 100:\n",
        "        total *= 0.9\n",
        "\n",
        "    return round(total, 2)\n",
        "\n",
        "\n",
        "precios = [20, 15, 30, 10]\n",
        "cantidades = [2, 1, 3, 5]\n",
        "resultado = calcular_total(precios, cantidades)\n",
        "print(f\"Total a pagar: ${resultado}\")"
      ],
      "metadata": {
        "id": "Pg56E0O1axC_"
      },
      "execution_count": null,
      "outputs": []
    },
    {
      "cell_type": "code",
      "source": [
        "#6\n",
        "def control_inventario(lista_productos, lista_vendidos):\n",
        "    return list(set(lista_productos) - set(lista_vendidos))\n",
        "\n",
        "lista_a = [\"pollo\", \"papa\", \"pescado\", \"mango\", \"agua\", \"takis\"]\n",
        "lista_b = [\"papa\", \"takis\", \"agua\"]\n",
        "\n",
        "print(\"Productos restantes en inventario:\", control_inventario(lista_a, lista_b))"
      ],
      "metadata": {
        "id": "k4Efwf17bWSP"
      },
      "execution_count": null,
      "outputs": []
    },
    {
      "cell_type": "code",
      "source": [
        "#7\n",
        "def registrar_temperaturas(temperaturas):\n",
        "    altas = 0\n",
        "    medias = 0\n",
        "    bajas = 0\n",
        "\n",
        "\n",
        "    for temp in temperaturas:\n",
        "        if temp > 30:\n",
        "            altas += 1\n",
        "        elif 20 <= temp <= 30:\n",
        "            medias += 1\n",
        "        else:\n",
        "            bajas += 1\n",
        "\n",
        "    return altas, medias, bajastemperaturas_diarias = [25, 32, 18, 29, 35, 22, 19, 28, 30, 12]\n",
        "altas, medias, bajas = registrar_temperaturas(temperaturas_diarias)\n",
        "print(f\"Días con temperatura > 30°C: {altas}\")\n",
        "print(f\"Días entre 20°C y 30°C: {medias}\")\n",
        "print(f\"Días con temperatura < 20°C: {bajas}\")"
      ],
      "metadata": {
        "id": "RpVWuT2JbXbf"
      },
      "execution_count": null,
      "outputs": []
    },
    {
      "cell_type": "code",
      "source": [
        "#8\n",
        "def calcular_calorias():\n",
        "    total_calorias = 0\n",
        "    num_alimentos = int(input(\"¿Cuántos alimentos consumirás hoy? \"))\n",
        "\n",
        "    for i in range(num_alimentos):\n",
        "        calorias = int(input(f\"Ingrese las calorías del alimento {i+1}: \"))\n",
        "        total_calorias += calorias\n",
        "\n",
        "    if total_calorias > 2000:\n",
        "        print(f\"Has consumido {total_calorias} calorías. ¡Cuidado! Has superado el límite diario recomendado.\")\n",
        "    else:\n",
        "        print(f\"Has consumido {total_calorias} calorías. Estás dentro del límite diario recomendado.\")\n",
        "\n",
        "calcular_calorias()"
      ],
      "metadata": {
        "id": "L22w7OrtbYR8"
      },
      "execution_count": null,
      "outputs": []
    },
    {
      "cell_type": "code",
      "source": [
        "#9\n",
        "def promedio_ventas_mensuales(ventas):\n",
        "    if len(ventas) != 12:\n",
        "        return \"Error: La lista debe contener exactamente 12 valores, uno por cada mes.\"\n",
        "\n",
        "    promedio = sum(ventas) / 12\n",
        "    meses_sobre_promedio = sum(1 for venta in ventas if venta > promedio)\n",
        "\n",
        "    return promedio, meses_sobre_promedio\n",
        "\n",
        "ventas_mensuales = [1500, 2000, 1800, 1700, 1900, 2100, 2300, 2500, 2200, 2400, 2600, 2700]\n",
        "promedio, meses_arriba = promedio_ventas_mensuales(ventas_mensuales)\n",
        "print(f\"El promedio de ventas es: {promedio}\")\n",
        "print(f\"Número de meses por encima del promedio: {meses_arriba}\")"
      ],
      "metadata": {
        "id": "r8Pqwjc7cCtO"
      },
      "execution_count": null,
      "outputs": []
    },
    {
      "cell_type": "code",
      "source": [
        "#10\n",
        "def calcular_descuento(compra):\n",
        "    if 50 < compra < 100:\n",
        "        descuento = compra * 0.05\n",
        "    elif 100 <= compra < 200:\n",
        "        descuento = compra * 0.1\n",
        "    elif compra >= 200:\n",
        "        descuento = compra * 0.15\n",
        "    total = compra - descuento\n",
        "    print(\"El total a pagar, con un descuento de\",descuento,\"%\")\n",
        "    print(\"es de: $\", total)\n",
        "\n",
        "compra = float(input(\"Escriba el valor de su compra: \"))\n",
        "calcular_descuento(compra)"
      ],
      "metadata": {
        "id": "qoTy4r2ycDa1"
      },
      "execution_count": null,
      "outputs": []
    },
    {
      "cell_type": "code",
      "source": [
        "#11\n",
        "def pacientes_prioritarios(nombres, edades):\n",
        "    prioritarios = [nombres[i] for i in range(len(edades)) if edades[i] > 60]\n",
        "    return prioritarios\n",
        "\n",
        "nombres = [\"Juan\", \"Ana\", \"Luis\", \"Marta\"]\n",
        "edades = [45, 62, 70, 30]\n",
        "print(pacientes_prioritarios(nombres, edades))"
      ],
      "metadata": {
        "id": "YcJFNpeBcEL-"
      },
      "execution_count": null,
      "outputs": []
    },
    {
      "cell_type": "code",
      "source": [
        "#12\n",
        "def calcular_gastos(gastos, categorias):\n",
        "    total = sum(gastos)\n",
        "    max_gasto = max(gastos)\n",
        "    categoria_max = categorias[gastos.index(max_gasto)]\n",
        "\n",
        "    return total, categoria_max, max_gasto\n",
        "\n",
        "categorias = [\"Alquiler\", \"Comida\", \"Transporte\", \"Ocio\"]\n",
        "gastos = [500, 300, 150, 200]\n",
        "resultado = calcular_gastos(gastos, categorias)\n",
        "print(f\"Total: {resultado[0]}, Mayor gasto: {resultado[2]} en {resultado[1]}\")"
      ],
      "metadata": {
        "id": "-MpEhUrGcEnT"
      },
      "execution_count": null,
      "outputs": []
    },
    {
      "cell_type": "code",
      "source": [
        "#13\n",
        "def no_asistieron(registrados, asistieron):\n",
        "    return list(set(registrados) - set(asistieron))\n",
        "\n",
        "# Ejemplo de uso\n",
        "registrados = [\"Pedro\", \"Laura\", \"Carlos\", \"Mónica\"]\n",
        "asistieron = [\"Pedro\", \"Mónica\"]\n",
        "print(no_asistieron(registrados, asistieron))"
      ],
      "metadata": {
        "id": "Z5M5Vd_FcFCZ"
      },
      "execution_count": null,
      "outputs": []
    },
    {
      "cell_type": "code",
      "source": [
        "#14\n",
        "def recomendar_ejercicio(minutos):\n",
        "    promedio = sum(minutos) / len(minutos)\n",
        "\n",
        "    if promedio > 60:\n",
        "        return \"Excelente, estás en forma\"\n",
        "    elif 30 <= promedio <= 60:\n",
        "        return \"Buen trabajo, pero puedes mejorar\"\n",
        "    else:\n",
        "        return \"Debes hacer más ejercicio\"\n",
        "\n",
        "# Ejemplo de uso\n",
        "ejercicio = [40, 50, 60, 70, 30, 20, 90]\n",
        "print(recomendar_ejercicio(ejercicio))"
      ],
      "metadata": {
        "id": "W-19j_n3cFcL"
      },
      "execution_count": null,
      "outputs": []
    }
  ]
}